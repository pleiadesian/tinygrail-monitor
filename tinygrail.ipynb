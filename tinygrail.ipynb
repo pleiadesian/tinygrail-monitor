{
 "cells": [
  {
   "cell_type": "markdown",
   "metadata": {},
   "source": [
    "## Lib"
   ]
  },
  {
   "cell_type": "code",
   "execution_count": 2,
   "metadata": {
    "ExecuteTime": {
     "end_time": "2019-08-22T08:11:27.245999Z",
     "start_time": "2019-08-22T08:11:27.244003Z"
    }
   },
   "outputs": [],
   "source": [
    "import json\n",
    "import pandas as pd\n",
    "import os"
   ]
  },
  {
   "cell_type": "code",
   "execution_count": null,
   "metadata": {},
   "outputs": [],
   "source": []
  },
  {
   "cell_type": "markdown",
   "metadata": {},
   "source": [
    "## Selenium"
   ]
  },
  {
   "cell_type": "markdown",
   "metadata": {},
   "source": [
    "- (windows) 安装 selenium 和 chromedriver\n",
    "    - selenium: `pip install selenium`\n",
    "    - chromedriver: http://chromedriver.storage.googleapis.com/index.html \n",
    "        - 找对应 chrome://version/ 的版本下载，置于 chrome.exe 所在文件夹。\n",
    "        - (optional) 将此文件夹加入用户的环境变量 PATH， 命令行输入 chromedriver 测试是否安装成功。"
   ]
  },
  {
   "cell_type": "code",
   "execution_count": 3,
   "metadata": {
    "ExecuteTime": {
     "end_time": "2019-08-22T08:11:28.043998Z",
     "start_time": "2019-08-22T08:11:28.040975Z"
    }
   },
   "outputs": [],
   "source": [
    "# from selenium import webdriver\n",
    "# brower_path = r\"D:\\Tools\\ChromePortable64\\App\\Chrome-bin\\chromedriver.exe\"\n",
    "# driver = webdriver.Chrome(brower_path)"
   ]
  },
  {
   "cell_type": "code",
   "execution_count": null,
   "metadata": {},
   "outputs": [],
   "source": []
  },
  {
   "cell_type": "markdown",
   "metadata": {},
   "source": [
    "## 小圣杯"
   ]
  },
  {
   "cell_type": "markdown",
   "metadata": {},
   "source": [
    "- 用户的持仓情况（可以看到用户的小圣杯uid）:\n",
    "https://www.tinygrail.com/api/chara/user/assets/{bgm用户id}/true\n",
    "\n",
    "- 角色的当前买卖挂单（没啥用，关键信息都被隐藏了）:\n",
    "https://www.tinygrail.com/api/chara/depth/{角色ID}\n",
    "\n",
    "- 角色的全部股东列表：\n",
    "https://www.tinygrail.com/api/chara/users/{角色ID}/1/1000\n",
    "\n",
    "- 个人自身的特定角色买卖单记录：\n",
    "https://www.tinygrail.com/api/chara/user/{角色ID}\n",
    "\n",
    "- 股东列表+自身买卖单记录，再结合整理出来的小圣杯id-BGM用户数据，可以定位到交易对方的bgm账号"
   ]
  },
  {
   "cell_type": "code",
   "execution_count": 5,
   "metadata": {
    "ExecuteTime": {
     "end_time": "2019-08-22T08:11:32.452049Z",
     "start_time": "2019-08-22T08:11:32.448565Z"
    }
   },
   "outputs": [],
   "source": [
    "'''input'''\n",
    "char_id = \"21368\"\n",
    "char_name = \"喵帕斯\"\n",
    "\n",
    "shds_flag = 0\n",
    "pending_flag = 0"
   ]
  },
  {
   "cell_type": "code",
   "execution_count": 6,
   "metadata": {
    "ExecuteTime": {
     "end_time": "2019-08-22T08:11:39.777281Z",
     "start_time": "2019-08-22T08:11:34.626192Z"
    }
   },
   "outputs": [],
   "source": [
    "from tinygrail_utils import Grail\n",
    "grail = Grail(char_id, char_name, flag=pending_flag)"
   ]
  },
  {
   "cell_type": "code",
   "execution_count": 7,
   "metadata": {
    "ExecuteTime": {
     "end_time": "2019-08-22T07:56:03.866137Z",
     "start_time": "2019-08-22T07:56:03.861148Z"
    },
    "scrolled": true
   },
   "outputs": [
    {
     "ename": "NameError",
     "evalue": "name 'os' is not defined",
     "output_type": "error",
     "traceback": [
      "\u001b[0;31m---------------------------------------------------------------------------\u001b[0m",
      "\u001b[0;31mNameError\u001b[0m                                 Traceback (most recent call last)",
      "\u001b[0;32m<ipython-input-7-570b4550099a>\u001b[0m in \u001b[0;36m<module>\u001b[0;34m\u001b[0m\n\u001b[1;32m      2\u001b[0m \u001b[0;34m\u001b[0m\u001b[0m\n\u001b[1;32m      3\u001b[0m \u001b[0;31m# get shareholders table\u001b[0m\u001b[0;34m\u001b[0m\u001b[0;34m\u001b[0m\u001b[0;34m\u001b[0m\u001b[0m\n\u001b[0;32m----> 4\u001b[0;31m \u001b[0;32mif\u001b[0m \u001b[0;32mnot\u001b[0m \u001b[0mos\u001b[0m\u001b[0;34m.\u001b[0m\u001b[0mpath\u001b[0m\u001b[0;34m.\u001b[0m\u001b[0misfile\u001b[0m\u001b[0;34m(\u001b[0m\u001b[0mshds_path\u001b[0m\u001b[0;34m)\u001b[0m \u001b[0;32mor\u001b[0m \u001b[0mshds_flag\u001b[0m \u001b[0;34m==\u001b[0m \u001b[0;36m1\u001b[0m\u001b[0;34m:\u001b[0m\u001b[0;34m\u001b[0m\u001b[0;34m\u001b[0m\u001b[0m\n\u001b[0m\u001b[1;32m      5\u001b[0m     \u001b[0mshds_path\u001b[0m \u001b[0;34m=\u001b[0m \u001b[0mgrail\u001b[0m\u001b[0;34m.\u001b[0m\u001b[0mget_shds\u001b[0m\u001b[0;34m(\u001b[0m\u001b[0;34m)\u001b[0m\u001b[0;34m\u001b[0m\u001b[0;34m\u001b[0m\u001b[0m\n",
      "\u001b[0;31mNameError\u001b[0m: name 'os' is not defined"
     ]
    }
   ],
   "source": [
    "shds_path = \"./\" + char_name + \"_shds.xlsx\"\n",
    "\n",
    "# get shareholders table\n",
    "if not os.path.isfile(shds_path) or shds_flag == 1:\n",
    "    shds_path = grail.get_shds()"
   ]
  },
  {
   "cell_type": "code",
   "execution_count": 4,
   "metadata": {
    "ExecuteTime": {
     "end_time": "2019-08-22T08:12:16.619416Z",
     "start_time": "2019-08-22T08:11:47.170946Z"
    }
   },
   "outputs": [
    {
     "ename": "NameError",
     "evalue": "name 'os' is not defined",
     "output_type": "error",
     "traceback": [
      "\u001b[0;31m---------------------------------------------------------------------------\u001b[0m",
      "\u001b[0;31mNameError\u001b[0m                                 Traceback (most recent call last)",
      "\u001b[0;32m<ipython-input-4-86fcafc5d6da>\u001b[0m in \u001b[0;36m<module>\u001b[0;34m\u001b[0m\n\u001b[1;32m      2\u001b[0m \u001b[0;34m\u001b[0m\u001b[0m\n\u001b[1;32m      3\u001b[0m \u001b[0;31m# get pendings\u001b[0m\u001b[0;34m\u001b[0m\u001b[0;34m\u001b[0m\u001b[0;34m\u001b[0m\u001b[0m\n\u001b[0;32m----> 4\u001b[0;31m \u001b[0;32mif\u001b[0m \u001b[0;32mnot\u001b[0m \u001b[0mos\u001b[0m\u001b[0;34m.\u001b[0m\u001b[0mpath\u001b[0m\u001b[0;34m.\u001b[0m\u001b[0misfile\u001b[0m\u001b[0;34m(\u001b[0m\u001b[0mpending_path\u001b[0m\u001b[0;34m)\u001b[0m \u001b[0;32mor\u001b[0m \u001b[0mshds_flag\u001b[0m \u001b[0;34m==\u001b[0m \u001b[0;36m1\u001b[0m \u001b[0;32mor\u001b[0m \u001b[0mpending_flag\u001b[0m \u001b[0;34m==\u001b[0m \u001b[0;36m1\u001b[0m\u001b[0;34m:\u001b[0m\u001b[0;34m\u001b[0m\u001b[0;34m\u001b[0m\u001b[0m\n\u001b[0m\u001b[1;32m      5\u001b[0m     \u001b[0mpending_path\u001b[0m \u001b[0;34m=\u001b[0m \u001b[0mgrail\u001b[0m\u001b[0;34m.\u001b[0m\u001b[0mget_pendings\u001b[0m\u001b[0;34m(\u001b[0m\u001b[0;34m)\u001b[0m\u001b[0;34m\u001b[0m\u001b[0;34m\u001b[0m\u001b[0m\n",
      "\u001b[0;31mNameError\u001b[0m: name 'os' is not defined"
     ]
    }
   ],
   "source": [
    "pending_path = \"./\" + char_name + \"_pending.xlsx\"   \n",
    "\n",
    "# get pendings\n",
    "if not os.path.isfile(pending_path) or shds_flag == 1 or pending_flag == 1: \n",
    "    pending_path = grail.get_pendings()"
   ]
  },
  {
   "cell_type": "code",
   "execution_count": null,
   "metadata": {},
   "outputs": [],
   "source": []
  },
  {
   "cell_type": "code",
   "execution_count": null,
   "metadata": {},
   "outputs": [],
   "source": []
  },
  {
   "cell_type": "code",
   "execution_count": null,
   "metadata": {},
   "outputs": [],
   "source": []
  },
  {
   "cell_type": "code",
   "execution_count": null,
   "metadata": {},
   "outputs": [],
   "source": []
  },
  {
   "cell_type": "code",
   "execution_count": null,
   "metadata": {},
   "outputs": [],
   "source": []
  }
 ],
 "metadata": {
  "kernelspec": {
   "display_name": "Python 3",
   "language": "python",
   "name": "python3"
  },
  "language_info": {
   "codemirror_mode": {
    "name": "ipython",
    "version": 3
   },
   "file_extension": ".py",
   "mimetype": "text/x-python",
   "name": "python",
   "nbconvert_exporter": "python",
   "pygments_lexer": "ipython3",
   "version": "3.7.4"
  },
  "toc": {
   "base_numbering": 1,
   "nav_menu": {},
   "number_sections": true,
   "sideBar": true,
   "skip_h1_title": false,
   "title_cell": "Table of Contents",
   "title_sidebar": "Contents",
   "toc_cell": false,
   "toc_position": {},
   "toc_section_display": true,
   "toc_window_display": false
  }
 },
 "nbformat": 4,
 "nbformat_minor": 2
}
